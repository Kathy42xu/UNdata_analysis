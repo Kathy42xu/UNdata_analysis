{
  "metadata": {
    "colab": {
      "provenance": [],
      "include_colab_link": true
    },
    "language_info": {
      "name": "python"
    },
    "kernelspec": {
      "name": "python3",
      "display_name": "Python 3"
    }
  },
  "nbformat_minor": 5,
  "nbformat": 4,
  "cells": [
    {
      "cell_type": "markdown",
      "metadata": {
        "id": "view-in-github",
        "colab_type": "text"
      },
      "source": [
        "<a href=\"https://colab.research.google.com/github/Kathy42xu/UNdata_analysis/blob/main/Task1.ipynb\" target=\"_parent\"><img src=\"https://colab.research.google.com/assets/colab-badge.svg\" alt=\"Open In Colab\"/></a>"
      ]
    },
    {
      "cell_type": "code",
      "source": [
        "import pandas as pd\n",
        "\n",
        "excel_file = \"/content/Task1_Analyze.xlsx\"  # or your local path\n",
        "\n",
        "\n",
        "# 1) Read the \"Meta-POPLN\" sheet to filter countries in East Asia & Pacific with \"Lower middle income\"\n",
        "meta_df = pd.read_excel(excel_file, sheet_name=\"Meta-POPLN\")\n",
        "\n",
        "\n",
        "meta_filtered = meta_df[\n",
        "    (meta_df[\"Region\"] == \"East Asia & Pacific\") &\n",
        "    (meta_df[\"IncomeGroup\"] == \"Lower middle income\")\n",
        "]\n",
        "\n",
        "# 2) Read the \"Data-POPLN\" sheet to get the \"Population, total\" indicator and merge with meta_filtered\n",
        "\n",
        "popln_df = pd.read_excel(excel_file, sheet_name=\"Data-POPLN\")\n",
        "\n",
        "popln_df = popln_df[popln_df[\"Indicator Name\"] == \"Population, total\"]\n",
        "\n",
        "# Merge with meta_filtered on \"Country Code\" to get only the countries matching the criteria\n",
        "merged_popln = pd.merge(\n",
        "    meta_filtered, popln_df,\n",
        "    on=\"Country Code\",\n",
        "    how=\"inner\"\n",
        ")\n",
        "\n",
        "# Extract the 2015 population from the \"2015\" column\n",
        "merged_popln[\"Population_2015\"] = merged_popln[\"2015\"]\n",
        "\n",
        "\n",
        "# 3) Select the top 10 countries based on the 2015 population\n",
        "top10 = merged_popln.sort_values(by=\"Population_2015\", ascending=False).head(10)\n",
        "\n",
        "\n",
        "# 4) Read the \"Data-HLTHEXPENDITURE\" sheet and filter for the appropriate series\n",
        "\n",
        "hlth_df = pd.read_excel(excel_file, sheet_name=\"Data-HLTHEXPNDITURE\")\n",
        "\n",
        "hlth_filtered = hlth_df[\n",
        "    hlth_df[\"Series Name\"] == \"Domestic general government health expenditure (% of current health expenditure)\"\n",
        "].copy()\n",
        "\n",
        "# 5) Merge top10 with the health expenditure data on \"Country Code\"\n",
        "merged_hlth = pd.merge(\n",
        "    top10,\n",
        "    hlth_filtered,\n",
        "    on=\"Country Code\",\n",
        "    how=\"inner\",\n",
        "    suffixes=(\"_popln\", \"_health\")\n",
        ")\n",
        "\n",
        "# 6) Rename columns for years 2005 to 2015 from \"2005 [YR2005]\" to \"Val_2005\", etc.\n",
        "years = range(2000, 2021)\n",
        "for y in years:\n",
        "    old_col = f\"{y} [YR{y}]\"\n",
        "    new_col = f\"Val_{y}\"\n",
        "    if old_col in merged_hlth.columns:\n",
        "        merged_hlth.rename(columns={old_col: new_col}, inplace=True)\n",
        "\n",
        "\n",
        "# 7) Calculate the year-over-year (YoY) percentage change for 2006–2015\n",
        "#    YoY_year = (Val_year - Val_(year-1)) / Val_(year-1) * 100\n",
        "\n",
        "for year in range(2006, 2016):\n",
        "    cur_col = f\"Val_{year}\"\n",
        "    prev_col = f\"Val_{year - 1}\"\n",
        "    yoy_col = f\"YoY_{year}\"\n",
        "\n",
        "    if cur_col in merged_hlth.columns and prev_col in merged_hlth.columns:\n",
        "        # Calculate the YoY percentage change and force float type to enable rounding\n",
        "        merged_hlth[yoy_col] = ((merged_hlth[cur_col].astype(float) - merged_hlth[prev_col].astype(float))\n",
        "                                / merged_hlth[prev_col].astype(float) * 100).round(1)\n",
        "    else:\n",
        "        merged_hlth[yoy_col] = pd.NA\n",
        "\n",
        "\n",
        "# 8) Create the final summary table: Country Name + YoY_2006 to YoY_2015\n",
        "# Note: the country name from the population table is stored as \"Country Name_popln\"\n",
        "output_cols = [\"Country Name_popln\"] + [f\"YoY_{y}\" for y in range(2006, 2016)]\n",
        "summary_df = merged_hlth[output_cols].copy()\n",
        "summary_df.rename(columns={\"Country Name_popln\": \"Country Name\"}, inplace=True)\n",
        "\n",
        "summary_df.sort_values(by=\"Country Name\", inplace=True)\n",
        "\n",
        "print(\"\\nAnnual Increase in Domestic General Government Health Expenditure (YoY %) \"\n",
        "      \"for the Ten Most-Populated Lower Middle Income Countries in East Asia & Pacific\\n\"\n",
        "      \"Period: 2005–2015 (YoY from 2006–2015)\\n\")\n",
        "print(summary_df.to_string(index=False))\n",
        "\n",
        "# Save the final summary table to Excel\n",
        "summary_df.to_excel(\"health_yoy_summary.xlsx\", index=False)\n"
      ],
      "metadata": {
        "colab": {
          "base_uri": "https://localhost:8080/"
        },
        "id": "1xrucvwZOh4K",
        "outputId": "822172f8-39e6-4c55-d7ba-5b86075d77bb"
      },
      "id": "1xrucvwZOh4K",
      "execution_count": 31,
      "outputs": [
        {
          "output_type": "stream",
          "name": "stdout",
          "text": [
            "\n",
            "Annual Increase in Domestic General Government Health Expenditure (YoY %) for the Ten Most-Populated Lower Middle Income Countries in East Asia & Pacific\n",
            "Period: 2005–2015 (YoY from 2006–2015)\n",
            "\n",
            "    Country Name  YoY_2006  YoY_2007  YoY_2008  YoY_2009  YoY_2010  YoY_2011  YoY_2012  YoY_2013  YoY_2014  YoY_2015\n",
            "        Cambodia     -12.0      26.3     -21.6       3.4      22.8     -13.6      13.6       3.1      -7.4      17.3\n",
            "       Indonesia       9.7      13.7      -2.3      -0.3     -32.6      -0.9      12.1       8.1      17.6      18.2\n",
            "         Lao PDR     -19.4     -17.4       2.6      78.5     -37.4      -9.0      11.5      41.2       0.2      18.4\n",
            "        Mongolia       9.8       6.4      -0.1      -1.5      -6.0      -9.1       2.2      -8.1       2.3      -0.4\n",
            "         Myanmar      63.9     -15.9     -19.3       6.9      13.6      21.5      44.0       9.6      28.1      -9.1\n",
            "Papua New Guinea       1.9       0.5       5.0      -5.7      -7.7       5.8       4.7      -3.1      -6.7      22.6\n",
            "     Philippines      -3.0      -2.4      -3.8       1.7       4.1     -17.3      -0.4      -0.3      30.1      10.4\n",
            " Solomon Islands      -7.6       5.3     -17.0     -18.0      34.6      -9.7       5.8       0.2      -0.1      14.1\n",
            "     Timor-Leste      -0.7     -57.1     185.1      -9.0      14.4       2.3      14.1     -12.2       4.2       5.8\n",
            "         Vietnam      -1.9      -2.0       6.7      -3.8       9.3      -2.3       8.3      12.4     -10.9      -0.4\n"
          ]
        }
      ]
    },
    {
      "source": [
        "An AI generated notebook created with [Data Science Agent](https://labs.google.com/code/dsa) from Google Labs ![image.png](data:image/png;base64,iVBORw0KGgoAAAANSUhEUgAAACAAAAAgCAYAAABzenr0AAAAAXNSR0IArs4c6QAAAERlWElmTU0AKgAAAAgAAYdpAAQAAAABAAAAGgAAAAAAA6ABAAMAAAABAAEAAKACAAQAAAABAAAAIKADAAQAAAABAAAAIAAAAACshmLzAAAFI0lEQVRYCb1XbUxTVxh+z71tKZTvUVBGZAXKhzI6XJZFpiFziiZuM5M5A4vJnBo2FrdlcUtMNo1LDGbJEsOP7Y9uETYXFdgQp7E4EHEIEeXDBaEqBSYfc0gptEBv23t2zi0ll9sPWhN2/pz3PM973ue9573nnHsRiFoXHlNpGmFTxKxsO8zKCgAz4SL66U2EJ0DO3wUlf0ZfYL+4Ba2wuoMht9HfP5Ks6VKdBAfa5MaWpZfhq0bdk30pKSmDNL6QwMTDkVUxnapfgEd5yyIqDcrgFtML1qLY1MQhBmOsiukKrfzfxGky5EGpJtVGuN60AybZammSfsaYcAulk/j54ySuZBjl3CEDK97ryXhHvjGc+vNUXYUmOT3NbPnHJB96NBhDPVclJZsiEmLtA4a+qJLte/s/S3tvvfcIEnQWvy8DB5slgX0ONyStdRwfLIs0tHckQlQI5OXmPaDOLe3NaWC2QYw63rIuUef0GUBK2NlshM9PTRM84O1mZyxdisJEXUN1U9OrfG4+jdnIdDRtLMzP56pHuuR8uE6q42dsYQjJ+3HwoOzg5BCDQOtUy90ktRGLgHJuLMCepwnQFyfgNo6mbVgpgxnrzMI8wZazQLmAA7kcMU0gqBaKlSzMOcGGuYWVsxMbzzlA4IKKBhB0As1jtzngeXg2LEHh1loR5ipH43BbsCUIMgHE3S/8aGf+yjVpE7GsOtOdwDNsQnby2ox/d31clA+M7Z4bD6QPagUKftxjp0ENX/9hJF2USCC8/9C1UTp+5WSRTIQvaQacwE1LR1P973WrDx481BbOx7wojcyAKufo4bKWlstXtbcsnU1S3teYngOThBQ/jacv4gzo7bj0ldkpkyNHOmnSkZ5OLmRnXendC1XVGbaKvwcBK7S+/OZxc0ArkHe6mKUTug/X95HOpzj12bpx2yQ3M6soqC0J6ERcMoFmU9u1m3X61K+OlrXFIfXLVMRLcwzj4Zat+pKefUc+2AAKBuorqzPbp5cuhf8S0KUvjk/XZq0ZMXx5g5x8SO0pPte75eIBVl9To4Vp8o7StcLksuQxMJEKcP4w9hCwLNVznoD4L8Gb50s5IOfNt6XHyKUjFUcz5QM/3WAOaDL1p89qYUbYIAB04Yk4TYSf4mBX7acWH+IC7LMEreStrzt7LpueFMd/LU8C2dxf7kCPudHW16p2D3/yeel6PEY+78g9IAi7HWhPEyGlOFdZoevl7l8XU2LbewnQ3D35fk2aw2SVC0cVPXQ1UfDhG3tu9T0ZiGyoupABNgLKibB94UoQx3XZiPAYQ2RSnNV8oneU7Io0iZP3Erxz+Qu7IC6jtSRTyO0HRjN8X37ipYaff8sQlphi/sSpEhGnqzP1aFy1v/XYlERcGNISkEiL24PHA66t5ph/OlpTcaPCUkzMi22na26noTtaDM/biB6bHu9BXETsnOCgJJRYiMbySHc+lK+OKpCb2+kUrn6pF4NwldlIts1zYsaGpu/EleastoBV6UogWFV3NJIxKZWKD7EZv7t9R43i17kZoUfYiHCtqQ449vVFBB2g2Z6eaeN4CBvisUIevr4Aos/xDj4rIlkNWOn57Sl3XEJYb3oLzGyNrxjLikc7CxnYHK0Hlr++rELeglPNTdFXGISQFXQhu4H8LnnzWxaMahFNqi3UF6WGDkEuXwzkx3FZBMVBqUauoljQJPii15v+nudckW8DG/Mu2Jnnye6IFc99ahthE8j4Tgjjz3Rvtl/SiX7P/wMAnfFmGtKN6gAAAABJRU5ErkJggg==)\n"
      ],
      "metadata": {
        "id": "labs_signature"
      },
      "cell_type": "markdown",
      "id": "labs_signature"
    }
  ]
}